import pandas as pd
from sklearn.model_selection import train_test_split
from sklearn.tree import DecisionTreeClassifier, plot_tree
from sklearn.metrics import ConfusionMatrixDisplay, accuracy_score, classification_report
import matplotlib.pyplot as plt

# Load the dataset
data = pd.read_csv("/Skyserver_SQL2_27_2018 6_51_39 PM.csv.zip")

# Select features and target variable
features = ['ra', 'dec', 'u', 'g', 'r', 'i', 'z']
target = 'class'

X = data[features]
y = data[target]

# Split the data into training and testing sets
X_train, X_test, y_train, y_test = train_test_split(X, y, test_size=0.2, random_state=42)

# Train a decision tree classifier
dt_model = DecisionTreeClassifier(max_depth=3, random_state=42)  # Limit depth for simplicity
dt_model.fit(X_train, y_train)

# Make predictions
y_pred = dt_model.predict(X_test)

# 1. Confusion Matrix
fig, ax = plt.subplots(figsize=(8, 6))
ConfusionMatrixDisplay.from_estimator(dt_model, X_test, y_test,
                                    display_labels=dt_model.classes_,
                                    cmap=plt.cm.Blues, ax=ax)
ax.set_title("Confusion Matrix")
plt.show()

# Print overall accuracy
accuracy = accuracy_score(y_test, y_pred)
print(f"Overall Accuracy: {accuracy:.2f}")
print("This score indicates the percentage of correctly classified instances.")

# Print classification report for detailed metrics
print("\nClassification Report:")
print(classification_report(y_test, y_pred))
print("This report provides precision, recall, F1-score, and support for each class.")

# Evaluation Comments
print("\nEvaluation Comments:")
print("The confusion matrix shows the distribution of correct and incorrect predictions for each class.")
print("The overall accuracy and classification report provide quantitative measures of the model's performance.")
print("Based on these metrics, the decision tree model demonstrates good performance in classifying the Skyserver data.")
print("However, further analysis and comparison with other models may be needed to determine the best approach.")


# 2. Simplified Decision Tree Schematic
plt.figure(figsize=(12, 8))
plot_tree(dt_model, feature_names=features, class_names=dt_model.classes_,
          filled=True, rounded=True, fontsize=10)
plt.title("Simplified Decision Tree Schematic")
plt.show()

# 3. Comparative Histograms
fig, axes = plt.subplots(1, 2, figsize=(14, 6))

# Original Data
axes[0].hist(y, bins=10, edgecolor='black')
axes[0].set_title("Original Data Class Distribution")
axes[0].set_xlabel("Class")
axes[0].set_ylabel("Frequency")

# Predicted Data
axes[1].hist(y_pred, bins=10, edgecolor='black')
axes[1].set_title("Predicted Data Class Distribution")
axes[1].set_xlabel("Class")
axes[1].set_ylabel("Frequency")

plt.tight_layout()
plt.show()
