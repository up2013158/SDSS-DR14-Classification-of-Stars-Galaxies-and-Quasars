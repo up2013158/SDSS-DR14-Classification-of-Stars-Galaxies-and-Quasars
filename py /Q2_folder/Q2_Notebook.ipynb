{
  "cells": [
    {
      "cell_type": "markdown",
      "metadata": {
        "id": "StG-lxIXwlcu"
      },
      "source": [
        "# SDSS DR14 Data Classification with Neural Networks\n",
        "\n",
        "## **Introduction:**\n",
        "This notebook demonstrates how to build a neural network model to classify astronomical objects from sample data from the SDSS DR14.\n",
        "The goal is to predict the 'class' of an object, as ethier a `STAR`, `GALAXY` or `QSO`, based on its features like `ra`, `dec`, `u`, `g`, `r`, `i` and `z`."
      ]
    },
    {
      "cell_type": "markdown",
      "metadata": {
        "id": "pJ46Y3GsxHig"
      },
      "source": [
        "## **Data Loading and Exploration:**"
      ]
    },
    {
      "cell_type": "markdown",
      "metadata": {},
      "source": [
        "Load the dataset using the `pandas` libary"
      ]
    },
    {
      "cell_type": "code",
      "execution_count": 30,
      "metadata": {
        "colab": {
          "base_uri": "https://localhost:8080/",
          "height": 923
        },
        "id": "Yf86cPAPwy95",
        "outputId": "6b7d3786-65b0-4f3c-d744-5115fb8881ca"
      },
      "outputs": [],
      "source": [
        "import pandas as pd\n",
        "#data = pd.read_csv(\"Skyserver_SQL2_27_2018 6_51_39 PM.csv\")\n",
        "\n",
        "#Google Drive link\n",
        "url = \"https://drive.google.com/uc?id=1Pfii448H__H0qa644YhTKUG68Z8VmxLv\"\n",
        "\n",
        "# Load the CSV file\n",
        "data = pd.read_csv(url)"
      ]
    },
    {
      "cell_type": "markdown",
      "metadata": {},
      "source": [
        "The first few rows of the dataset can be displayed using `.head`"
      ]
    },
    {
      "cell_type": "code",
      "execution_count": 31,
      "metadata": {},
      "outputs": [
        {
          "data": {
            "text/html": [
              "<div>\n",
              "<style scoped>\n",
              "    .dataframe tbody tr th:only-of-type {\n",
              "        vertical-align: middle;\n",
              "    }\n",
              "\n",
              "    .dataframe tbody tr th {\n",
              "        vertical-align: top;\n",
              "    }\n",
              "\n",
              "    .dataframe thead th {\n",
              "        text-align: right;\n",
              "    }\n",
              "</style>\n",
              "<table border=\"1\" class=\"dataframe\">\n",
              "  <thead>\n",
              "    <tr style=\"text-align: right;\">\n",
              "      <th></th>\n",
              "      <th>objid</th>\n",
              "      <th>ra</th>\n",
              "      <th>dec</th>\n",
              "      <th>u</th>\n",
              "      <th>g</th>\n",
              "      <th>r</th>\n",
              "      <th>i</th>\n",
              "      <th>z</th>\n",
              "      <th>run</th>\n",
              "      <th>rerun</th>\n",
              "      <th>camcol</th>\n",
              "      <th>field</th>\n",
              "      <th>specobjid</th>\n",
              "      <th>class</th>\n",
              "      <th>redshift</th>\n",
              "      <th>plate</th>\n",
              "      <th>mjd</th>\n",
              "      <th>fiberid</th>\n",
              "    </tr>\n",
              "  </thead>\n",
              "  <tbody>\n",
              "    <tr>\n",
              "      <th>0</th>\n",
              "      <td>1.237650e+18</td>\n",
              "      <td>183.531326</td>\n",
              "      <td>0.089693</td>\n",
              "      <td>19.47406</td>\n",
              "      <td>17.04240</td>\n",
              "      <td>15.94699</td>\n",
              "      <td>15.50342</td>\n",
              "      <td>15.22531</td>\n",
              "      <td>752</td>\n",
              "      <td>301</td>\n",
              "      <td>4</td>\n",
              "      <td>267</td>\n",
              "      <td>3.722360e+18</td>\n",
              "      <td>STAR</td>\n",
              "      <td>-0.000009</td>\n",
              "      <td>3306</td>\n",
              "      <td>54922</td>\n",
              "      <td>491</td>\n",
              "    </tr>\n",
              "    <tr>\n",
              "      <th>1</th>\n",
              "      <td>1.237650e+18</td>\n",
              "      <td>183.598370</td>\n",
              "      <td>0.135285</td>\n",
              "      <td>18.66280</td>\n",
              "      <td>17.21449</td>\n",
              "      <td>16.67637</td>\n",
              "      <td>16.48922</td>\n",
              "      <td>16.39150</td>\n",
              "      <td>752</td>\n",
              "      <td>301</td>\n",
              "      <td>4</td>\n",
              "      <td>267</td>\n",
              "      <td>3.638140e+17</td>\n",
              "      <td>STAR</td>\n",
              "      <td>-0.000055</td>\n",
              "      <td>323</td>\n",
              "      <td>51615</td>\n",
              "      <td>541</td>\n",
              "    </tr>\n",
              "    <tr>\n",
              "      <th>2</th>\n",
              "      <td>1.237650e+18</td>\n",
              "      <td>183.680207</td>\n",
              "      <td>0.126185</td>\n",
              "      <td>19.38298</td>\n",
              "      <td>18.19169</td>\n",
              "      <td>17.47428</td>\n",
              "      <td>17.08732</td>\n",
              "      <td>16.80125</td>\n",
              "      <td>752</td>\n",
              "      <td>301</td>\n",
              "      <td>4</td>\n",
              "      <td>268</td>\n",
              "      <td>3.232740e+17</td>\n",
              "      <td>GALAXY</td>\n",
              "      <td>0.123111</td>\n",
              "      <td>287</td>\n",
              "      <td>52023</td>\n",
              "      <td>513</td>\n",
              "    </tr>\n",
              "    <tr>\n",
              "      <th>3</th>\n",
              "      <td>1.237650e+18</td>\n",
              "      <td>183.870529</td>\n",
              "      <td>0.049911</td>\n",
              "      <td>17.76536</td>\n",
              "      <td>16.60272</td>\n",
              "      <td>16.16116</td>\n",
              "      <td>15.98233</td>\n",
              "      <td>15.90438</td>\n",
              "      <td>752</td>\n",
              "      <td>301</td>\n",
              "      <td>4</td>\n",
              "      <td>269</td>\n",
              "      <td>3.722370e+18</td>\n",
              "      <td>STAR</td>\n",
              "      <td>-0.000111</td>\n",
              "      <td>3306</td>\n",
              "      <td>54922</td>\n",
              "      <td>510</td>\n",
              "    </tr>\n",
              "    <tr>\n",
              "      <th>4</th>\n",
              "      <td>1.237650e+18</td>\n",
              "      <td>183.883288</td>\n",
              "      <td>0.102557</td>\n",
              "      <td>17.55025</td>\n",
              "      <td>16.26342</td>\n",
              "      <td>16.43869</td>\n",
              "      <td>16.55492</td>\n",
              "      <td>16.61326</td>\n",
              "      <td>752</td>\n",
              "      <td>301</td>\n",
              "      <td>4</td>\n",
              "      <td>269</td>\n",
              "      <td>3.722370e+18</td>\n",
              "      <td>STAR</td>\n",
              "      <td>0.000590</td>\n",
              "      <td>3306</td>\n",
              "      <td>54922</td>\n",
              "      <td>512</td>\n",
              "    </tr>\n",
              "  </tbody>\n",
              "</table>\n",
              "</div>"
            ],
            "text/plain": [
              "          objid          ra       dec         u         g         r         i  \\\n",
              "0  1.237650e+18  183.531326  0.089693  19.47406  17.04240  15.94699  15.50342   \n",
              "1  1.237650e+18  183.598370  0.135285  18.66280  17.21449  16.67637  16.48922   \n",
              "2  1.237650e+18  183.680207  0.126185  19.38298  18.19169  17.47428  17.08732   \n",
              "3  1.237650e+18  183.870529  0.049911  17.76536  16.60272  16.16116  15.98233   \n",
              "4  1.237650e+18  183.883288  0.102557  17.55025  16.26342  16.43869  16.55492   \n",
              "\n",
              "          z  run  rerun  camcol  field     specobjid   class  redshift  plate  \\\n",
              "0  15.22531  752    301       4    267  3.722360e+18    STAR -0.000009   3306   \n",
              "1  16.39150  752    301       4    267  3.638140e+17    STAR -0.000055    323   \n",
              "2  16.80125  752    301       4    268  3.232740e+17  GALAXY  0.123111    287   \n",
              "3  15.90438  752    301       4    269  3.722370e+18    STAR -0.000111   3306   \n",
              "4  16.61326  752    301       4    269  3.722370e+18    STAR  0.000590   3306   \n",
              "\n",
              "     mjd  fiberid  \n",
              "0  54922      491  \n",
              "1  51615      541  \n",
              "2  52023      513  \n",
              "3  54922      510  \n",
              "4  54922      512  "
            ]
          },
          "metadata": {},
          "output_type": "display_data"
        }
      ],
      "source": [
        "display(data.head())"
      ]
    },
    {
      "cell_type": "markdown",
      "metadata": {},
      "source": [
        "The data's structure and summary statistics can be explored using `.info` and `.describe`"
      ]
    },
    {
      "cell_type": "code",
      "execution_count": 32,
      "metadata": {},
      "outputs": [
        {
          "name": "stdout",
          "output_type": "stream",
          "text": [
            "<class 'pandas.core.frame.DataFrame'>\n",
            "RangeIndex: 10000 entries, 0 to 9999\n",
            "Data columns (total 18 columns):\n",
            " #   Column     Non-Null Count  Dtype  \n",
            "---  ------     --------------  -----  \n",
            " 0   objid      10000 non-null  float64\n",
            " 1   ra         10000 non-null  float64\n",
            " 2   dec        10000 non-null  float64\n",
            " 3   u          10000 non-null  float64\n",
            " 4   g          10000 non-null  float64\n",
            " 5   r          10000 non-null  float64\n",
            " 6   i          10000 non-null  float64\n",
            " 7   z          10000 non-null  float64\n",
            " 8   run        10000 non-null  int64  \n",
            " 9   rerun      10000 non-null  int64  \n",
            " 10  camcol     10000 non-null  int64  \n",
            " 11  field      10000 non-null  int64  \n",
            " 12  specobjid  10000 non-null  float64\n",
            " 13  class      10000 non-null  object \n",
            " 14  redshift   10000 non-null  float64\n",
            " 15  plate      10000 non-null  int64  \n",
            " 16  mjd        10000 non-null  int64  \n",
            " 17  fiberid    10000 non-null  int64  \n",
            "dtypes: float64(10), int64(7), object(1)\n",
            "memory usage: 1.4+ MB\n"
          ]
        },
        {
          "data": {
            "text/html": [
              "<div>\n",
              "<style scoped>\n",
              "    .dataframe tbody tr th:only-of-type {\n",
              "        vertical-align: middle;\n",
              "    }\n",
              "\n",
              "    .dataframe tbody tr th {\n",
              "        vertical-align: top;\n",
              "    }\n",
              "\n",
              "    .dataframe thead th {\n",
              "        text-align: right;\n",
              "    }\n",
              "</style>\n",
              "<table border=\"1\" class=\"dataframe\">\n",
              "  <thead>\n",
              "    <tr style=\"text-align: right;\">\n",
              "      <th></th>\n",
              "      <th>objid</th>\n",
              "      <th>ra</th>\n",
              "      <th>dec</th>\n",
              "      <th>u</th>\n",
              "      <th>g</th>\n",
              "      <th>r</th>\n",
              "      <th>i</th>\n",
              "      <th>z</th>\n",
              "      <th>run</th>\n",
              "      <th>rerun</th>\n",
              "      <th>camcol</th>\n",
              "      <th>field</th>\n",
              "      <th>specobjid</th>\n",
              "      <th>redshift</th>\n",
              "      <th>plate</th>\n",
              "      <th>mjd</th>\n",
              "      <th>fiberid</th>\n",
              "    </tr>\n",
              "  </thead>\n",
              "  <tbody>\n",
              "    <tr>\n",
              "      <th>count</th>\n",
              "      <td>1.000000e+04</td>\n",
              "      <td>10000.000000</td>\n",
              "      <td>10000.000000</td>\n",
              "      <td>10000.000000</td>\n",
              "      <td>10000.000000</td>\n",
              "      <td>10000.000000</td>\n",
              "      <td>10000.000000</td>\n",
              "      <td>10000.000000</td>\n",
              "      <td>10000.000000</td>\n",
              "      <td>10000.0</td>\n",
              "      <td>10000.000000</td>\n",
              "      <td>10000.000000</td>\n",
              "      <td>1.000000e+04</td>\n",
              "      <td>10000.000000</td>\n",
              "      <td>10000.000000</td>\n",
              "      <td>10000.000000</td>\n",
              "      <td>10000.000000</td>\n",
              "    </tr>\n",
              "    <tr>\n",
              "      <th>mean</th>\n",
              "      <td>1.237650e+18</td>\n",
              "      <td>175.529987</td>\n",
              "      <td>14.836148</td>\n",
              "      <td>18.619355</td>\n",
              "      <td>17.371931</td>\n",
              "      <td>16.840963</td>\n",
              "      <td>16.583579</td>\n",
              "      <td>16.422833</td>\n",
              "      <td>981.034800</td>\n",
              "      <td>301.0</td>\n",
              "      <td>3.648700</td>\n",
              "      <td>302.380100</td>\n",
              "      <td>1.645022e+18</td>\n",
              "      <td>0.143726</td>\n",
              "      <td>1460.986400</td>\n",
              "      <td>52943.533300</td>\n",
              "      <td>353.069400</td>\n",
              "    </tr>\n",
              "    <tr>\n",
              "      <th>std</th>\n",
              "      <td>0.000000e+00</td>\n",
              "      <td>47.783439</td>\n",
              "      <td>25.212207</td>\n",
              "      <td>0.828656</td>\n",
              "      <td>0.945457</td>\n",
              "      <td>1.067764</td>\n",
              "      <td>1.141805</td>\n",
              "      <td>1.203188</td>\n",
              "      <td>273.305024</td>\n",
              "      <td>0.0</td>\n",
              "      <td>1.666183</td>\n",
              "      <td>162.577763</td>\n",
              "      <td>2.013998e+18</td>\n",
              "      <td>0.388774</td>\n",
              "      <td>1788.778371</td>\n",
              "      <td>1511.150651</td>\n",
              "      <td>206.298149</td>\n",
              "    </tr>\n",
              "    <tr>\n",
              "      <th>min</th>\n",
              "      <td>1.237650e+18</td>\n",
              "      <td>8.235100</td>\n",
              "      <td>-5.382632</td>\n",
              "      <td>12.988970</td>\n",
              "      <td>12.799550</td>\n",
              "      <td>12.431600</td>\n",
              "      <td>11.947210</td>\n",
              "      <td>11.610410</td>\n",
              "      <td>308.000000</td>\n",
              "      <td>301.0</td>\n",
              "      <td>1.000000</td>\n",
              "      <td>11.000000</td>\n",
              "      <td>2.995780e+17</td>\n",
              "      <td>-0.004136</td>\n",
              "      <td>266.000000</td>\n",
              "      <td>51578.000000</td>\n",
              "      <td>1.000000</td>\n",
              "    </tr>\n",
              "    <tr>\n",
              "      <th>25%</th>\n",
              "      <td>1.237650e+18</td>\n",
              "      <td>157.370946</td>\n",
              "      <td>-0.539035</td>\n",
              "      <td>18.178035</td>\n",
              "      <td>16.815100</td>\n",
              "      <td>16.173333</td>\n",
              "      <td>15.853705</td>\n",
              "      <td>15.618285</td>\n",
              "      <td>752.000000</td>\n",
              "      <td>301.0</td>\n",
              "      <td>2.000000</td>\n",
              "      <td>184.000000</td>\n",
              "      <td>3.389248e+17</td>\n",
              "      <td>0.000081</td>\n",
              "      <td>301.000000</td>\n",
              "      <td>51900.000000</td>\n",
              "      <td>186.750000</td>\n",
              "    </tr>\n",
              "    <tr>\n",
              "      <th>50%</th>\n",
              "      <td>1.237650e+18</td>\n",
              "      <td>180.394514</td>\n",
              "      <td>0.404166</td>\n",
              "      <td>18.853095</td>\n",
              "      <td>17.495135</td>\n",
              "      <td>16.858770</td>\n",
              "      <td>16.554985</td>\n",
              "      <td>16.389945</td>\n",
              "      <td>756.000000</td>\n",
              "      <td>301.0</td>\n",
              "      <td>4.000000</td>\n",
              "      <td>299.000000</td>\n",
              "      <td>4.966580e+17</td>\n",
              "      <td>0.042591</td>\n",
              "      <td>441.000000</td>\n",
              "      <td>51997.000000</td>\n",
              "      <td>351.000000</td>\n",
              "    </tr>\n",
              "    <tr>\n",
              "      <th>75%</th>\n",
              "      <td>1.237650e+18</td>\n",
              "      <td>201.547279</td>\n",
              "      <td>35.649397</td>\n",
              "      <td>19.259232</td>\n",
              "      <td>18.010145</td>\n",
              "      <td>17.512675</td>\n",
              "      <td>17.258550</td>\n",
              "      <td>17.141447</td>\n",
              "      <td>1331.000000</td>\n",
              "      <td>301.0</td>\n",
              "      <td>5.000000</td>\n",
              "      <td>414.000000</td>\n",
              "      <td>2.881300e+18</td>\n",
              "      <td>0.092579</td>\n",
              "      <td>2559.000000</td>\n",
              "      <td>54468.000000</td>\n",
              "      <td>510.000000</td>\n",
              "    </tr>\n",
              "    <tr>\n",
              "      <th>max</th>\n",
              "      <td>1.237650e+18</td>\n",
              "      <td>260.884382</td>\n",
              "      <td>68.542265</td>\n",
              "      <td>19.599900</td>\n",
              "      <td>19.918970</td>\n",
              "      <td>24.802040</td>\n",
              "      <td>28.179630</td>\n",
              "      <td>22.833060</td>\n",
              "      <td>1412.000000</td>\n",
              "      <td>301.0</td>\n",
              "      <td>6.000000</td>\n",
              "      <td>768.000000</td>\n",
              "      <td>9.468830e+18</td>\n",
              "      <td>5.353854</td>\n",
              "      <td>8410.000000</td>\n",
              "      <td>57481.000000</td>\n",
              "      <td>1000.000000</td>\n",
              "    </tr>\n",
              "  </tbody>\n",
              "</table>\n",
              "</div>"
            ],
            "text/plain": [
              "              objid            ra           dec             u             g  \\\n",
              "count  1.000000e+04  10000.000000  10000.000000  10000.000000  10000.000000   \n",
              "mean   1.237650e+18    175.529987     14.836148     18.619355     17.371931   \n",
              "std    0.000000e+00     47.783439     25.212207      0.828656      0.945457   \n",
              "min    1.237650e+18      8.235100     -5.382632     12.988970     12.799550   \n",
              "25%    1.237650e+18    157.370946     -0.539035     18.178035     16.815100   \n",
              "50%    1.237650e+18    180.394514      0.404166     18.853095     17.495135   \n",
              "75%    1.237650e+18    201.547279     35.649397     19.259232     18.010145   \n",
              "max    1.237650e+18    260.884382     68.542265     19.599900     19.918970   \n",
              "\n",
              "                  r             i             z           run    rerun  \\\n",
              "count  10000.000000  10000.000000  10000.000000  10000.000000  10000.0   \n",
              "mean      16.840963     16.583579     16.422833    981.034800    301.0   \n",
              "std        1.067764      1.141805      1.203188    273.305024      0.0   \n",
              "min       12.431600     11.947210     11.610410    308.000000    301.0   \n",
              "25%       16.173333     15.853705     15.618285    752.000000    301.0   \n",
              "50%       16.858770     16.554985     16.389945    756.000000    301.0   \n",
              "75%       17.512675     17.258550     17.141447   1331.000000    301.0   \n",
              "max       24.802040     28.179630     22.833060   1412.000000    301.0   \n",
              "\n",
              "             camcol         field     specobjid      redshift         plate  \\\n",
              "count  10000.000000  10000.000000  1.000000e+04  10000.000000  10000.000000   \n",
              "mean       3.648700    302.380100  1.645022e+18      0.143726   1460.986400   \n",
              "std        1.666183    162.577763  2.013998e+18      0.388774   1788.778371   \n",
              "min        1.000000     11.000000  2.995780e+17     -0.004136    266.000000   \n",
              "25%        2.000000    184.000000  3.389248e+17      0.000081    301.000000   \n",
              "50%        4.000000    299.000000  4.966580e+17      0.042591    441.000000   \n",
              "75%        5.000000    414.000000  2.881300e+18      0.092579   2559.000000   \n",
              "max        6.000000    768.000000  9.468830e+18      5.353854   8410.000000   \n",
              "\n",
              "                mjd       fiberid  \n",
              "count  10000.000000  10000.000000  \n",
              "mean   52943.533300    353.069400  \n",
              "std     1511.150651    206.298149  \n",
              "min    51578.000000      1.000000  \n",
              "25%    51900.000000    186.750000  \n",
              "50%    51997.000000    351.000000  \n",
              "75%    54468.000000    510.000000  \n",
              "max    57481.000000   1000.000000  "
            ]
          },
          "metadata": {},
          "output_type": "display_data"
        }
      ],
      "source": [
        "data.info()\n",
        "display(data.describe())"
      ]
    },
    {
      "cell_type": "markdown",
      "metadata": {
        "id": "QH8HOGmfzB_D"
      },
      "source": [
        "## **Feature Selection and Target Variable:**\n",
        "We will only use the following features for classification:\n",
        "- `ra`: Right ascension\n",
        "- `dec`: Declination\n",
        "- `u`, `g`, `r`, `i`, `z`: Magnitudes in different photometric bands\n",
        "\n",
        "We define a new varible `X` which is the dataset cut to only include these features\n",
        "\n",
        "The target column, `class`, that represents the type of astronomical object is set to a new varible `Y`.\n"
      ]
    },
    {
      "cell_type": "code",
      "execution_count": 33,
      "metadata": {
        "id": "XI4s6C36zQZN"
      },
      "outputs": [],
      "source": [
        "features = ['ra', 'dec', 'u', 'g', 'r', 'i', 'z']\n",
        "target = 'class'\n",
        "\n",
        "X = data[features]\n",
        "Y = data[target]"
      ]
    },
    {
      "cell_type": "markdown",
      "metadata": {
        "id": "PHfykzDpzUpY"
      },
      "source": [
        "## **Encoding the Target Variable:**\n",
        "The target variable 'class' is categorical. We need to encode it into numerical values using LabelEncoder."
      ]
    },
    {
      "cell_type": "code",
      "execution_count": 34,
      "metadata": {
        "colab": {
          "base_uri": "https://localhost:8080/"
        },
        "id": "rZGCsg9AzfLF",
        "outputId": "1205f3e1-6fd9-4e99-f716-9d3afd1545f5"
      },
      "outputs": [],
      "source": [
        "from sklearn.preprocessing import LabelEncoder\n",
        "\n",
        "# Encode target labels\n",
        "label_encoder = LabelEncoder()\n",
        "Y = label_encoder.fit_transform(Y)"
      ]
    },
    {
      "cell_type": "markdown",
      "metadata": {},
      "source": [
        "## **Normalising features:**"
      ]
    },
    {
      "cell_type": "code",
      "execution_count": 35,
      "metadata": {},
      "outputs": [],
      "source": [
        "from sklearn.preprocessing import StandardScaler\n",
        "\n",
        "scaler = StandardScaler()\n",
        "X = scaler.fit_transform(X)"
      ]
    },
    {
      "cell_type": "markdown",
      "metadata": {
        "id": "6fCztKp4zl-Q"
      },
      "source": [
        "## **Data Splitting:**\n",
        "\n",
        "We split the data into training and testing sets so that the decison tree model performance is evaluated on unseen data.\n",
        "- 80% of the data is used for model training.\n",
        "- 20% of the data is used for model testing.\n",
        "- `random_state` ensures reproducibility.\n",
        "\n",
        "We use the `sklearn.model_selection` module to slit the data set into training and testing subsets. Where `test_size=0.2` specifies the proportion of the dataset to include in the test split and `random_state=42` sets an arbitrary seed value used to initialize the random number generator used to slipt the dataset in a reproducible way."
      ]
    },
    {
      "cell_type": "code",
      "execution_count": 36,
      "metadata": {
        "id": "oWSZEMvwzxcc"
      },
      "outputs": [],
      "source": [
        "from sklearn.model_selection import train_test_split\n",
        "\n",
        "X_train, X_test, Y_train, Y_test = train_test_split(X, Y, test_size=0.2, random_state=42)"
      ]
    },
    {
      "cell_type": "markdown",
      "metadata": {},
      "source": [
        "Convert the datasets into tensors so pytorch can use them"
      ]
    },
    {
      "cell_type": "code",
      "execution_count": 37,
      "metadata": {},
      "outputs": [],
      "source": [
        "import torch\n",
        "\n",
        "# Convert features to PyTorch tensors\n",
        "X_train_tensor = torch.tensor(X_train, dtype=torch.float32)\n",
        "X_test_tensor = torch.tensor(X_test, dtype=torch.float32)\n",
        "\n",
        "# Convert labels to PyTorch tensors\n",
        "Y_train_tensor = torch.tensor(Y_train, dtype=torch.long)\n",
        "Y_test_tensor = torch.tensor(Y_test, dtype=torch.long)"
      ]
    },
    {
      "cell_type": "markdown",
      "metadata": {},
      "source": [
        "## **Dataset Class and DataLoader:**"
      ]
    },
    {
      "cell_type": "code",
      "execution_count": 38,
      "metadata": {},
      "outputs": [],
      "source": [
        "from torch.utils.data import TensorDataset, DataLoader\n",
        "\n",
        "# Create TensorDatasets\n",
        "train_dataset = TensorDataset(X_train_tensor, Y_train_tensor)\n",
        "test_dataset = TensorDataset(X_test_tensor, Y_test_tensor)\n",
        "\n",
        "# Create DataLoaders\n",
        "batch_size = 64\n",
        "train_loader = DataLoader(train_dataset, batch_size=batch_size, shuffle=True)\n",
        "test_loader = DataLoader(test_dataset, batch_size=batch_size, shuffle=False)\n"
      ]
    },
    {
      "cell_type": "markdown",
      "metadata": {},
      "source": [
        "## **Building the Neural Network Model:**"
      ]
    },
    {
      "cell_type": "code",
      "execution_count": 39,
      "metadata": {},
      "outputs": [],
      "source": [
        "import torch.nn as nn\n",
        "\n",
        "# Define Neural Network Model\n",
        "class SDSSClassifier(nn.Module):\n",
        "    def __init__(self, input_dim, hidden_dim, output_dim):\n",
        "        super(SDSSClassifier, self).__init__()\n",
        "        self.fc = nn.Sequential(\n",
        "            nn.Linear(input_dim, hidden_dim),\n",
        "            nn.ReLU(),\n",
        "            nn.Linear(hidden_dim, output_dim)\n",
        "        )\n",
        "\n",
        "    def forward(self, x):\n",
        "        return self.fc(x)\n",
        "\n",
        "# Define model parameters\n",
        "input_dim = X_train.shape[1]  # Number of features\n",
        "hidden_dim = 64               # Number of neurons in the hidden layer\n",
        "output_dim = len(label_encoder.classes_)  # Number of output classes\n",
        "\n",
        "# Instantiate the model\n",
        "model = SDSSClassifier(input_dim, hidden_dim, output_dim)"
      ]
    },
    {
      "cell_type": "markdown",
      "metadata": {},
      "source": [
        "## **Loss and Optimizer:**\n",
        "Defining the Loss Function and Optimizer"
      ]
    },
    {
      "cell_type": "code",
      "execution_count": 40,
      "metadata": {},
      "outputs": [],
      "source": [
        "import torch.optim as optim\n",
        "\n",
        "criterion = nn.CrossEntropyLoss()  # For multi-class classification\n",
        "optimizer = optim.Adam(model.parameters(), lr=0.001)  # Adam optimizer"
      ]
    },
    {
      "cell_type": "markdown",
      "metadata": {},
      "source": [
        "## **Train the Model:**"
      ]
    },
    {
      "cell_type": "code",
      "execution_count": 41,
      "metadata": {},
      "outputs": [
        {
          "name": "stdout",
          "output_type": "stream",
          "text": [
            "Epoch 1/10, Loss: 0.8368\n",
            "Epoch 2/10, Loss: 0.6183\n",
            "Epoch 3/10, Loss: 0.5526\n",
            "Epoch 4/10, Loss: 0.5083\n",
            "Epoch 5/10, Loss: 0.4648\n",
            "Epoch 6/10, Loss: 0.4226\n",
            "Epoch 7/10, Loss: 0.3860\n",
            "Epoch 8/10, Loss: 0.3563\n",
            "Epoch 9/10, Loss: 0.3343\n",
            "Epoch 10/10, Loss: 0.3179\n",
            "Model training completed.\n"
          ]
        }
      ],
      "source": [
        "# Train the Model\n",
        "num_epochs = 10\n",
        "\n",
        "for epoch in range(num_epochs):\n",
        "    model.train()  # Set the model to training mode\n",
        "    total_loss = 0\n",
        "\n",
        "    for inputs, labels in train_loader:\n",
        "        optimizer.zero_grad()  # Clear previous gradients\n",
        "        outputs = model(inputs)  # Forward pass\n",
        "        loss = criterion(outputs, labels)  # Compute the loss\n",
        "        loss.backward()  # Backward pass\n",
        "        optimizer.step()  # Update weights\n",
        "        total_loss += loss.item()  # Accumulate loss\n",
        "\n",
        "    print(f\"Epoch {epoch + 1}/{num_epochs}, Loss: {total_loss / len(train_loader):.4f}\")\n",
        "print(\"Model training completed.\")\n"
      ]
    },
    {
      "cell_type": "markdown",
      "metadata": {},
      "source": [
        "## **Saving the Model:**"
      ]
    },
    {
      "cell_type": "code",
      "execution_count": 42,
      "metadata": {},
      "outputs": [
        {
          "name": "stdout",
          "output_type": "stream",
          "text": [
            "Model saved as 'sdss_classifier.pth'\n"
          ]
        }
      ],
      "source": [
        "# Save the Model\n",
        "torch.save(model.state_dict(), 'sdss_classifier.pth')\n",
        "print(\"Model saved as 'sdss_classifier.pth'\")"
      ]
    },
    {
      "cell_type": "markdown",
      "metadata": {
        "id": "tnjkZMrb0rLy"
      },
      "source": [
        "## **Model Evaluation:**\n",
        "We will evaluate the model using the following metrics:\n",
        "- **Accuracy:** Percentage of correctly classified instances.\n",
        "- **Classification Report:** Provides precision, recall, F1-score, and support for each class.\n",
        "- **Confusion Matrix:** Visualizes the distribution of correct and incorrect predictions."
      ]
    },
    {
      "cell_type": "code",
      "execution_count": 43,
      "metadata": {},
      "outputs": [],
      "source": [
        "from sklearn.metrics import accuracy_score, classification_report, ConfusionMatrixDisplay\n",
        "\n",
        "# Evaluate the Model\n",
        "model.eval()  # Set the model to evaluation mode\n",
        "all_preds = []\n",
        "all_labels = []\n",
        "\n",
        "with torch.no_grad():  # No need to calculate gradients during evaluation\n",
        "    for inputs, labels in test_loader:\n",
        "        outputs = model(inputs)  # Forward pass\n",
        "        _, preds = torch.max(outputs, 1)  # Get class predictions\n",
        "        all_preds.extend(preds.numpy())  # Store predictions\n",
        "        all_labels.extend(labels.numpy())  # Store true labels\n"
      ]
    },
    {
      "cell_type": "markdown",
      "metadata": {},
      "source": [
        "Accuracy"
      ]
    },
    {
      "cell_type": "code",
      "execution_count": 44,
      "metadata": {},
      "outputs": [
        {
          "name": "stdout",
          "output_type": "stream",
          "text": [
            "Accuracy: 0.91\n"
          ]
        }
      ],
      "source": [
        "accuracy = accuracy_score(all_labels, all_preds)\n",
        "print(f\"Accuracy: {accuracy:.2f}\")"
      ]
    },
    {
      "cell_type": "markdown",
      "metadata": {},
      "source": [
        "Classification Report"
      ]
    },
    {
      "cell_type": "code",
      "execution_count": 45,
      "metadata": {},
      "outputs": [
        {
          "name": "stdout",
          "output_type": "stream",
          "text": [
            "\n",
            "Classification Report:\n",
            "              precision    recall  f1-score   support\n",
            "\n",
            "      GALAXY       0.95      0.89      0.92       996\n",
            "         QSO       0.92      0.84      0.88       190\n",
            "        STAR       0.87      0.95      0.91       814\n",
            "\n",
            "    accuracy                           0.91      2000\n",
            "   macro avg       0.91      0.89      0.90      2000\n",
            "weighted avg       0.91      0.91      0.91      2000\n",
            "\n"
          ]
        }
      ],
      "source": [
        "# Classification report\n",
        "print(\"\\nClassification Report:\")\n",
        "print(classification_report(all_labels, all_preds, target_names=label_encoder.classes_))"
      ]
    },
    {
      "cell_type": "markdown",
      "metadata": {},
      "source": [
        "Confusion Matrix"
      ]
    },
    {
      "cell_type": "code",
      "execution_count": 67,
      "metadata": {},
      "outputs": [
        {
          "data": {
            "image/png": "[encoded data removed]",
            "text/plain": [
              "<Figure size 800x600 with 2 Axes>"
            ]
          },
          "metadata": {},
          "output_type": "display_data"
        }
      ],
      "source": [
        "import matplotlib.pyplot as plt\n",
        "\n",
        "# Confusion matrix visualization using from_predictions\n",
        "fig, ax = plt.subplots(figsize=(8, 6))\n",
        "ConfusionMatrixDisplay.from_predictions(all_labels, all_preds, cmap=plt.cm.Blues, ax=ax)\n",
        "ax.set_title(\"Confusion Matrix\")\n",
        "plt.show()\n"
      ]
    },
    {
      "cell_type": "markdown",
      "metadata": {},
      "source": [
        "## **Comparative Histograms:**\n",
        "\n",
        "We can compare the distribution of predicted classes with the true class distribution using histograms.\n",
        "This helps visualize how well the model captures the underlying patterns in the data."
      ]
    },
    {
      "cell_type": "code",
      "execution_count": 68,
      "metadata": {},
      "outputs": [
        {
          "data": {
            "image/png": "[encoded data removed]",
            "text/plain": [
              "<Figure size 1400x600 with 2 Axes>"
            ]
          },
          "metadata": {},
          "output_type": "display_data"
        }
      ],
      "source": [
        "import numpy as np\n",
        "\n",
        "# Decode numeric class labels back to original class names\n",
        "decoded_labels = label_encoder.inverse_transform(all_labels)\n",
        "decoded_preds = label_encoder.inverse_transform(all_preds)\n",
        "\n",
        "fig, axes = plt.subplots(1, 2, figsize=(14, 6))\n",
        "\n",
        "# Define class order and colors\n",
        "class_order = label_encoder.classes_  # ['GALAXY', 'QSO', 'STAR'] as determined by LabelEncoder\n",
        "colors = ['skyblue', 'lightcoral', 'gold']\n",
        "\n",
        "# Original Data Distribution\n",
        "unique_classes, counts = np.unique(decoded_labels, return_counts=True)\n",
        "class_counts = dict(zip(unique_classes, counts))  # Create a dictionary mapping classes to counts\n",
        "ordered_counts = [class_counts.get(cls, 0) for cls in class_order]  # Get counts in the desired order\n",
        "axes[0].bar(class_order, ordered_counts, color=colors, width=0.8, edgecolor='black')\n",
        "axes[0].set_title(\"Original Data Class Distribution\")\n",
        "axes[0].set_xlabel(\"Class\")\n",
        "axes[0].set_ylabel(\"Frequency\")\n",
        "\n",
        "# Predicted Data Distribution\n",
        "unique_classes, counts = np.unique(decoded_preds, return_counts=True)\n",
        "class_counts = dict(zip(unique_classes, counts))  # Create a dictionary mapping classes to counts\n",
        "ordered_counts = [class_counts.get(cls, 0) for cls in class_order]  # Get counts in the desired order\n",
        "axes[1].bar(class_order, ordered_counts, color=colors, width=0.8, edgecolor='black')\n",
        "axes[1].set_title(\"Predicted Data Class Distribution\")\n",
        "axes[1].set_xlabel(\"Class\")\n",
        "axes[1].set_ylabel(\"Frequency\")\n",
        "\n",
        "# Add labels to bars\n",
        "for ax in axes:\n",
        "    for i, rect in enumerate(ax.patches):\n",
        "        height = rect.get_height()\n",
        "        ax.text(rect.get_x() + rect.get_width() / 2, height + 10, f\"{height:.0f}\",\n",
        "                ha='center', va='bottom', color='black', fontsize=10)\n",
        "\n",
        "plt.tight_layout()\n",
        "plt.show()\n"
      ]
    },
    {
      "cell_type": "code",
      "execution_count": 80,
      "metadata": {},
      "outputs": [
        {
          "data": {
            "image/png": "[encoded data removed]",
            "text/plain": [
              "<Figure size 1000x600 with 1 Axes>"
            ]
          },
          "metadata": {},
          "output_type": "display_data"
        }
      ],
      "source": [
        "# Decode numeric class labels back to original class names\n",
        "decoded_labels = label_encoder.inverse_transform(all_labels)\n",
        "decoded_preds = label_encoder.inverse_transform(all_preds)\n",
        "\n",
        "# Scaling factor for true counts\n",
        "scaling_factor = 1.\n",
        "\n",
        "# Compute true and predicted counts\n",
        "true_counts = dict(zip(*np.unique(decoded_labels, return_counts=True)))\n",
        "pred_counts = dict(zip(*np.unique(decoded_preds, return_counts=True)))\n",
        "\n",
        "# Retain original order for plotting\n",
        "class_order = ['STAR', 'GALAXY', 'QSO']\n",
        "colors = ['forestgreen', 'darkorange']\n",
        "\n",
        "# Prepare data for the bar plot in original order\n",
        "true_ordered_scaled = [true_counts.get(cls, 0) * scaling_factor for cls in class_order]\n",
        "pred_ordered = [pred_counts.get(cls, 0) for cls in class_order]\n",
        "\n",
        "# Create the plot\n",
        "fig, ax = plt.subplots(figsize=(10, 6))\n",
        "\n",
        "bar_width = 0.35\n",
        "x = np.arange(len(class_order))\n",
        "\n",
        "# Plot histograms for scaled true values and predicted values\n",
        "ax.bar(x - bar_width / 2, true_ordered_scaled, bar_width, label='True (Scaled)', color=colors[0], edgecolor='black')\n",
        "ax.bar(x + bar_width / 2, pred_ordered, bar_width, label='Predicted', color=colors[1], edgecolor='black')\n",
        "\n",
        "# Add labels, title, and legend\n",
        "ax.set_title('True vs Predicted Class Distributions', fontsize=14)\n",
        "ax.set_xlabel('Class', fontsize=12)\n",
        "ax.set_ylabel('Frequency', fontsize=12)\n",
        "ax.set_xticks(x)\n",
        "ax.set_xticklabels(class_order)\n",
        "ax.legend()\n",
        "\n",
        "# Add values on bars\n",
        "for i, value in enumerate(true_ordered_scaled):\n",
        "    ax.text(i - bar_width / 2, value + max(pred_ordered) * 0.02, f\"{value:.1f}\", ha='center', fontsize=10)\n",
        "for i, value in enumerate(pred_ordered):\n",
        "    ax.text(i + bar_width / 2, value + max(pred_ordered) * 0.02, f\"{value:.1f}\", ha='center', fontsize=10)\n",
        "\n",
        "plt.tight_layout()\n",
        "plt.show()\n",
        "\n",
        "\n"
      ]
    },
    {
      "cell_type": "code",
      "execution_count": null,
      "metadata": {},
      "outputs": [],
      "source": [
        "import numpy as np\n",
        "\n",
        "fig, axes = plt.subplots(1, 2, figsize=(14, 6))\n",
        "\n",
        "# Define class order and colors\n",
        "class_order = ['STAR', 'GALAXY', 'QSO']\n",
        "colors = ['skyblue', 'lightcoral', 'gold']\n",
        "\n",
        "# Original Data Distribution\n",
        "unique_classes, counts = np.unique(Y, return_counts=True)\n",
        "class_counts = dict(zip(unique_classes, counts))  # Create a dictionary mapping classes to counts\n",
        "ordered_counts = [class_counts.get(cls, 0) for cls in class_order]  # Get counts in the desired order\n",
        "axes[0].bar(class_order, ordered_counts, color=colors, width=0.8, edgecolor='black')\n",
        "axes[0].set_title(\"Original Data Class Distribution\")\n",
        "axes[0].set_xlabel(\"Class\")\n",
        "axes[0].set_ylabel(\"Frequency\")\n",
        "\n",
        "# Predicted Data Distribution\n",
        "unique_classes, counts = np.unique(Y_pred, return_counts=True)\n",
        "class_counts = dict(zip(unique_classes, counts))  # Create a dictionary mapping classes to counts\n",
        "ordered_counts = [class_counts.get(cls, 0) for cls in class_order]  # Get counts in the desired order\n",
        "axes[1].bar(class_order, ordered_counts, color=colors, width=0.8, edgecolor='black')\n",
        "axes[1].set_title(\"Predicted Data Class Distribution\")\n",
        "axes[1].set_xlabel(\"Class\")\n",
        "axes[1].set_ylabel(\"Frequency\")\n",
        "\n",
        "# Add labels to bars\n",
        "for ax in axes:\n",
        "    for i, rect in enumerate(ax.patches):\n",
        "        height = rect.get_height()\n",
        "        ax.text(rect.get_x() + rect.get_width() / 2, height / 2, class_order[i],\n",
        "                ha='center', va='center', color='black', fontsize=10)\n",
        "\n",
        "plt.tight_layout()\n",
        "plt.show()"
      ]
    },
    {
      "cell_type": "markdown",
      "metadata": {
        "id": "tZnAzGwq3HLw"
      },
      "source": [
        "##**Comparative Histograms:**\n",
        "We can visualize the distribution of predicted classes compared to the original data using histograms."
      ]
    },
    {
      "cell_type": "code",
      "execution_count": null,
      "metadata": {
        "colab": {
          "base_uri": "https://localhost:8080/",
          "height": 607
        },
        "id": "DQR2TGgV3MO3",
        "outputId": "eed6ee94-dfe6-42a1-fa04-6724ca2c49f4"
      },
      "outputs": [
        {
          "data": {
            "image/png": "[encoded data removed]",
            "text/plain": [
              "<Figure size 1400x600 with 2 Axes>"
            ]
          },
          "metadata": {},
          "output_type": "display_data"
        }
      ],
      "source": [
        "import matplotlib.pyplot as plt\n",
        "import numpy as np\n",
        "\n",
        "# Comparative histograms\n",
        "fig, axes = plt.subplots(1, 2, figsize=(14, 6))\n",
        "\n",
        "# Original Data Distribution\n",
        "axes[0].hist(y, bins=np.arange(len(np.unique(y)) + 1) - 0.5, edgecolor='black', align='left') # Use np.unique() instead of y.unique()\n",
        "axes[0].set_title(\"Original Data Class Distribution\")\n",
        "axes[0].set_xlabel(\"Class\")\n",
        "axes[0].set_ylabel(\"Frequency\")\n",
        "\n",
        "# Predicted Data Distribution\n",
        "axes[1].hist(y_pred_classes, bins=np.arange(len(np.unique(y_pred_classes)) + 1) - 0.5, edgecolor='black', align='left') # Use y_pred_classes instead of y_pred\n",
        "axes[1].set_title(\"Predicted Data Class Distribution\")\n",
        "axes[1].set_xlabel(\"Class\")\n",
        "axes[1].set_ylabel(\"Frequency\")\n",
        "\n",
        "plt.tight_layout()\n",
        "plt.show()"
      ]
    },
    {
      "cell_type": "markdown",
      "metadata": {
        "id": "yRQutMEq3dvz"
      },
      "source": [
        "\n",
        "## **Model Optimization (Optional):**\n",
        "\n",
        "## **Hyperparameter Tuning:**\n",
        "You can experiment with different hyperparameters like the number of layers, neurons, activation functions, and dropout rates to improve the model's performance. Grid search or random search can be used for this purpose.\n",
        "\n",
        "## **Early Stopping:**\n",
        "Early stopping can be used to prevent overfitting by stopping the training process when the validation loss stops improving."
      ]
    },
    {
      "cell_type": "code",
      "execution_count": 17,
      "metadata": {
        "id": "yEQB8S-532m9"
      },
      "outputs": [],
      "source": [
        "from tensorflow.keras.callbacks import EarlyStopping\n",
        "\n",
        "early_stopping = EarlyStopping(monitor='val_loss', patience=5, restore_best_weights=True)"
      ]
    },
    {
      "cell_type": "markdown",
      "metadata": {
        "id": "buJ4Ctnt4cTb"
      },
      "source": [
        "## **Learning Rate Scheduling:**\n",
        "We'll use LearningRateScheduler to adjust the learning rate during training. This can help the model converge faster and find a better solution."
      ]
    },
    {
      "cell_type": "code",
      "execution_count": 18,
      "metadata": {
        "id": "2TUebqVh4iDg"
      },
      "outputs": [],
      "source": [
        "from tensorflow.keras.callbacks import LearningRateScheduler\n",
        "\n",
        "def learning_rate_schedule(epoch):\n",
        "    if epoch < 10:\n",
        "        return 0.001\n",
        "    else:\n",
        "        return 0.001 * np.exp(0.1 * (10 - epoch))\n",
        "\n",
        "lr_scheduler = LearningRateScheduler(learning_rate_schedule)"
      ]
    },
    {
      "cell_type": "markdown",
      "metadata": {
        "id": "VPRFhuFI4lOx"
      },
      "source": [
        "## **Training the Optimized Model:**\n",
        "Now, let's train the model with early stopping and learning rate scheduling."
      ]
    },
    {
      "cell_type": "code",
      "execution_count": null,
      "metadata": {
        "colab": {
          "base_uri": "https://localhost:8080/"
        },
        "id": "PVbGOGuS4sHe",
        "outputId": "25034a73-b69c-44ed-886a-125e35ff0c3d"
      },
      "outputs": [
        {
          "name": "stdout",
          "output_type": "stream",
          "text": [
            "Epoch 1/50\n",
            "\u001b[1m200/200\u001b[0m \u001b[32m━━━━━━━━━━━━━━━━━━━━\u001b[0m\u001b[37m\u001b[0m \u001b[1m0s\u001b[0m 2ms/step - accuracy: 0.7062 - loss: 0.6412 - val_accuracy: 0.7100 - val_loss: 0.6273 - learning_rate: 0.0010\n",
            "Epoch 2/50\n",
            "\u001b[1m200/200\u001b[0m \u001b[32m━━━━━━━━━━━━━━━━━━━━\u001b[0m\u001b[37m\u001b[0m \u001b[1m0s\u001b[0m 2ms/step - accuracy: 0.7035 - loss: 0.6452 - val_accuracy: 0.7294 - val_loss: 0.5869 - learning_rate: 0.0010\n",
            "Epoch 3/50\n",
            "\u001b[1m200/200\u001b[0m \u001b[32m━━━━━━━━━━━━━━━━━━━━\u001b[0m\u001b[37m\u001b[0m \u001b[1m1s\u001b[0m 1ms/step - accuracy: 0.7167 - loss: 0.6285 - val_accuracy: 0.7406 - val_loss: 0.6004 - learning_rate: 0.0010\n",
            "Epoch 4/50\n",
            "\u001b[1m200/200\u001b[0m \u001b[32m━━━━━━━━━━━━━━━━━━━━\u001b[0m\u001b[37m\u001b[0m \u001b[1m0s\u001b[0m 2ms/step - accuracy: 0.7042 - loss: 0.6402 - val_accuracy: 0.7287 - val_loss: 0.5784 - learning_rate: 0.0010\n",
            "Epoch 5/50\n",
            "\u001b[1m200/200\u001b[0m \u001b[32m━━━━━━━━━━━━━━━━━━━━\u001b[0m\u001b[37m\u001b[0m \u001b[1m0s\u001b[0m 2ms/step - accuracy: 0.7072 - loss: 0.6406 - val_accuracy: 0.7419 - val_loss: 0.5832 - learning_rate: 0.0010\n",
            "Epoch 6/50\n",
            "\u001b[1m200/200\u001b[0m \u001b[32m━━━━━━━━━━━━━━━━━━━━\u001b[0m\u001b[37m\u001b[0m \u001b[1m0s\u001b[0m 2ms/step - accuracy: 0.7094 - loss: 0.6346 - val_accuracy: 0.7294 - val_loss: 0.6192 - learning_rate: 0.0010\n",
            "Epoch 7/50\n",
            "\u001b[1m200/200\u001b[0m \u001b[32m━━━━━━━━━━━━━━━━━━━━\u001b[0m\u001b[37m\u001b[0m \u001b[1m0s\u001b[0m 2ms/step - accuracy: 0.7050 - loss: 0.6466 - val_accuracy: 0.7362 - val_loss: 0.5950 - learning_rate: 0.0010\n",
            "Epoch 8/50\n",
            "\u001b[1m200/200\u001b[0m \u001b[32m━━━━━━━━━━━━━━━━━━━━\u001b[0m\u001b[37m\u001b[0m \u001b[1m0s\u001b[0m 1ms/step - accuracy: 0.6948 - loss: 0.6507 - val_accuracy: 0.7350 - val_loss: 0.5888 - learning_rate: 0.0010\n",
            "Epoch 9/50\n",
            "\u001b[1m200/200\u001b[0m \u001b[32m━━━━━━━━━━━━━━━━━━━━\u001b[0m\u001b[37m\u001b[0m \u001b[1m0s\u001b[0m 2ms/step - accuracy: 0.7149 - loss: 0.6305 - val_accuracy: 0.7519 - val_loss: 0.5826 - learning_rate: 0.0010\n",
            "Optimized model training completed.\n"
          ]
        }
      ],
      "source": [
        "# Train the optimized model\n",
        "history_optimized = model.fit(\n",
        "    X_train,\n",
        "    y_train,\n",
        "    epochs=50,\n",
        "    batch_size=32,\n",
        "    validation_split=0.2,\n",
        "    verbose=1,\n",
        "    callbacks=[early_stopping, lr_scheduler]\n",
        ")\n",
        "print(\"Optimized model training completed.\")"
      ]
    },
    {
      "cell_type": "markdown",
      "metadata": {
        "id": "MQ8Hu7q36rkF"
      },
      "source": [
        "## **Evaluating and Visualizing the Optimized Model:**\n",
        "\n",
        "## **Model Evaluation:**\n",
        "\n",
        "We evaluate the optimized model on the testing data to assess its performance on unseen data."
      ]
    },
    {
      "cell_type": "code",
      "execution_count": null,
      "metadata": {
        "colab": {
          "base_uri": "https://localhost:8080/"
        },
        "id": "khYHRHew6wXw",
        "outputId": "1a495bc8-c3c6-4405-88be-fa11f9bf31cc"
      },
      "outputs": [
        {
          "name": "stdout",
          "output_type": "stream",
          "text": [
            "Optimized Test Loss: 0.5909\n",
            "Optimized Test Accuracy: 0.7245\n"
          ]
        }
      ],
      "source": [
        "# Evaluate the optimized model\n",
        "loss_optimized, accuracy_optimized = model.evaluate(X_test, y_test, verbose=0)\n",
        "print(f\"Optimized Test Loss: {loss_optimized:.4f}\")\n",
        "print(f\"Optimized Test Accuracy: {accuracy_optimized:.4f}\")"
      ]
    },
    {
      "cell_type": "markdown",
      "metadata": {
        "id": "Nel6yf5A6zI1"
      },
      "source": [
        "## **Visualization:**\n",
        "\n",
        "## **Comparative Histograms:**\n",
        "We can visualize the distribution of predicted classes compared to the original data using histograms."
      ]
    },
    {
      "cell_type": "code",
      "execution_count": null,
      "metadata": {
        "colab": {
          "base_uri": "https://localhost:8080/",
          "height": 624
        },
        "id": "ehcTKkm6654d",
        "outputId": "3657ccee-8ca3-422c-8611-9af0ab10cc68"
      },
      "outputs": [
        {
          "name": "stdout",
          "output_type": "stream",
          "text": [
            "\u001b[1m63/63\u001b[0m \u001b[32m━━━━━━━━━━━━━━━━━━━━\u001b[0m\u001b[37m\u001b[0m \u001b[1m0s\u001b[0m 887us/step\n"
          ]
        },
        {
          "data": {
            "image/png": "[encoded data removed]",
            "text/plain": [
              "<Figure size 1400x600 with 2 Axes>"
            ]
          },
          "metadata": {},
          "output_type": "display_data"
        }
      ],
      "source": [
        "import matplotlib.pyplot as plt\n",
        "import numpy as np\n",
        "\n",
        "def plot_comparative_histograms(feature_name, original_data, predicted_data, original_labels, predicted_labels):\n",
        "    \"\"\"\n",
        "    Plots comparative histograms for original and predicted data distributions.\n",
        "\n",
        "    Args:\n",
        "        feature_name (str): Name of the feature being plotted.\n",
        "        original_data (pd.Series or np.array): Original data for the feature.\n",
        "        predicted_data (pd.Series or np.array): Predicted data for the feature.\n",
        "        original_labels (pd.Series or np.array): Original class labels.\n",
        "        predicted_labels (pd.Series or np.array): Predicted class labels.\n",
        "    \"\"\"\n",
        "    fig, axes = plt.subplots(1, 2, figsize=(14, 6))\n",
        "\n",
        "    # Original Data Distribution\n",
        "    axes[0].hist(original_labels, bins=np.arange(len(np.unique(original_labels)) + 1) - 0.5, edgecolor='black', align='left')\n",
        "    axes[0].set_title(f\"Original Data Class Distribution for {feature_name}\")\n",
        "    axes[0].set_xlabel(\"Class\")\n",
        "    axes[0].set_ylabel(\"Frequency\")\n",
        "\n",
        "    # Predicted Data Distribution\n",
        "    axes[1].hist(predicted_labels, bins=np.arange(len(np.unique(predicted_labels)) + 1) - 0.5, edgecolor='black', align='left')\n",
        "    axes[1].set_title(f\"Predicted Data Class Distribution for {feature_name}\")\n",
        "    axes[1].set_xlabel(\"Class\")\n",
        "    axes[1].set_ylabel(\"Frequency\")\n",
        "\n",
        "    plt.tight_layout()\n",
        "    plt.show()\n",
        "\n",
        "# ... (your existing code) ...\n",
        "\n",
        "# Make predictions with the optimized model\n",
        "y_pred_optimized = model.predict(X_test)\n",
        "y_pred_classes_optimized = np.argmax(y_pred_optimized, axis=1)  # Get predicted class labels\n",
        "\n",
        "# Call the function to plot the histograms\n",
        "plot_comparative_histograms('All Features', X_test['ra'], X_test['ra'], y_test, y_pred_classes_optimized)"
      ]
    },
    {
      "cell_type": "markdown",
      "metadata": {
        "id": "c8eoXX6Z6-Wn"
      },
      "source": [
        "## **Confusion Matrix:**\n",
        "We can visualize the performance of the optimized model using a confusion matrix."
      ]
    },
    {
      "cell_type": "code",
      "execution_count": null,
      "metadata": {
        "colab": {
          "base_uri": "https://localhost:8080/",
          "height": 623
        },
        "id": "FNWDRhNv7DX0",
        "outputId": "a970143a-a789-4240-984e-cc3000838142"
      },
      "outputs": [
        {
          "name": "stdout",
          "output_type": "stream",
          "text": [
            "              precision    recall  f1-score   support\n",
            "\n",
            "      GALAXY       0.73      0.88      0.80       996\n",
            "         QSO       0.87      0.46      0.60       190\n",
            "        STAR       0.69      0.60      0.64       814\n",
            "\n",
            "    accuracy                           0.72      2000\n",
            "   macro avg       0.77      0.65      0.68      2000\n",
            "weighted avg       0.73      0.72      0.72      2000\n",
            "\n"
          ]
        },
        {
          "data": {
            "image/png": "[encoded data removed]",
            "text/plain": [
              "<Figure size 640x480 with 2 Axes>"
            ]
          },
          "metadata": {},
          "output_type": "display_data"
        }
      ],
      "source": [
        "# Print classification report and confusion matrix for the optimized model\n",
        "print(classification_report(y_test, y_pred_classes_optimized, target_names=encoder.classes_))\n",
        "ConfusionMatrixDisplay.from_predictions(y_test, y_pred_classes_optimized, display_labels=encoder.classes_)\n",
        "plt.show()"
      ]
    },
    {
      "cell_type": "markdown",
      "metadata": {
        "id": "XKQ_btxe3m4K"
      },
      "source": [
        "## **10. Conclusion:**\n",
        "This notebook demonstrates the process of building, training, and evaluating a neural network model for classifying astronomical objects. We explored data preprocessing, model building, training, evaluation, visualization, and potential optimization techniques.\n",
        "\n",
        "Further exploration can involve experimenting with different model architectures, hyperparameters, and optimization techniques to achieve better performance."
      ]
    }
  ],
  "metadata": {
    "colab": {
      "provenance": []
    },
    "kernelspec": {
      "display_name": "Python 3 (ipykernel)",
      "language": "python",
      "name": "python3"
    },
    "language_info": {
      "codemirror_mode": {
        "name": "ipython",
        "version": 3
      },
      "file_extension": ".py",
      "mimetype": "text/x-python",
      "name": "python",
      "nbconvert_exporter": "python",
      "pygments_lexer": "ipython3",
      "version": "3.12.1"
    }
  },
  "nbformat": 4,
  "nbformat_minor": 0
}
